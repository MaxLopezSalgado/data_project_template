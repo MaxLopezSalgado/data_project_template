{
 "cells": [
  {
   "attachments": {},
   "cell_type": "markdown",
   "metadata": {},
   "source": [
    "- Author: Your Name\n",
    "- First Commit: 01.01.2023\n",
    "- Last Commit: 01.01.2023\n",
    "- Description: This notebook is used to perform EDA on the \"xxxxx\" dataset"
   ]
  },
  {
   "cell_type": "code",
   "execution_count": null,
   "metadata": {},
   "outputs": [],
   "source": [
    "# Import libraries\n",
    "import pandas as pd\n",
    "import numpy as np\n",
    "import matplotlib.pyplot as plt\n",
    "import seaborn as sns\n",
    "from scipy import stats\n",
    "import folium\n",
    "from folium import plugins"
   ]
  },
  {
   "attachments": {},
   "cell_type": "markdown",
   "metadata": {},
   "source": [
    "# Exploratory Data Analysis (EDA)"
   ]
  },
  {
   "attachments": {},
   "cell_type": "markdown",
   "metadata": {},
   "source": [
    "## 1. Understanding the data"
   ]
  },
  {
   "attachments": {},
   "cell_type": "markdown",
   "metadata": {},
   "source": [
    "### 1.1 Gathering data"
   ]
  },
  {
   "cell_type": "code",
   "execution_count": null,
   "metadata": {},
   "outputs": [],
   "source": [
    "# Import csv cleaned files \n",
    "df = pd.read_csv('../datasets/cleaned_df.csv')"
   ]
  },
  {
   "attachments": {},
   "cell_type": "markdown",
   "metadata": {},
   "source": [
    "### 1.2 Assesing data"
   ]
  },
  {
   "cell_type": "code",
   "execution_count": null,
   "metadata": {},
   "outputs": [],
   "source": [
    "# Take a look of the data´s shape\n",
    "display(df.shape)"
   ]
  },
  {
   "cell_type": "code",
   "execution_count": null,
   "metadata": {},
   "outputs": [],
   "source": [
    "# Take a look of the data´s info\n",
    "display(df.info())"
   ]
  },
  {
   "cell_type": "code",
   "execution_count": null,
   "metadata": {},
   "outputs": [],
   "source": [
    "# Use describe method to get descriptive statistics\n",
    "display(df.describe())"
   ]
  },
  {
   "attachments": {},
   "cell_type": "markdown",
   "metadata": {},
   "source": [
    "## 2. Extracting and Plotting the data"
   ]
  },
  {
   "attachments": {},
   "cell_type": "markdown",
   "metadata": {},
   "source": [
    "From the dataframes we have, here are some potential information we can extract:\n",
    "\n",
    "**DataFrame 1: df**\n",
    "- Count of unique values.\n",
    "- Distribution of values.\n",
    "- Count of values.\n",
    "- Descriptive statistics of column´s values.\n",
    "- Time-based analysis of column´s values.\n",
    "- Geographic distribution of values on a map\n",
    "- Visualization of regions with a heatmap.\n",
    "\n",
    "**DataFrame 2: df2**\n",
    "- Count of unique values.\n",
    "- Distribution of values.\n",
    "- Count of values.\n",
    "- Descriptive statistics of column´s values.\n",
    "- Time-based analysis of column´s values.\n",
    "- Geographic distribution of values on a map\n",
    "- Visualization of regions with a heatmap.\n",
    "\n",
    "**DataFrame 3: df3**\n",
    "- Count of unique values.\n",
    "- Distribution of values.\n",
    "- Count of values.\n",
    "- Descriptive statistics of column´s values.\n",
    "- Time-based analysis of column´s values.\n",
    "- Geographic distribution of values on a map\n",
    "- Visualization of regions with a heatmap.\n",
    "\n",
    "**DataFrame 4: df4**\n",
    "- Count of unique values.\n",
    "- Distribution of values.\n",
    "- Count of values.\n",
    "- Descriptive statistics of column´s values.\n",
    "- Time-based analysis of column´s values.\n",
    "- Geographic distribution of values on a map\n",
    "- Visualization of regions with a heatmap."
   ]
  },
  {
   "attachments": {},
   "cell_type": "markdown",
   "metadata": {},
   "source": [
    "## DataFrame 1: Customer Data"
   ]
  },
  {
   "attachments": {},
   "cell_type": "markdown",
   "metadata": {},
   "source": [
    "### Number of unique values"
   ]
  },
  {
   "cell_type": "code",
   "execution_count": null,
   "metadata": {},
   "outputs": [],
   "source": [
    "unique_column1 = cleaned_df['column1'].nunique()\n",
    "print(\"Number of unique values:\", column1) #-----> Change \"values\" for the variable name you want to analize"
   ]
  },
  {
   "attachments": {},
   "cell_type": "markdown",
   "metadata": {},
   "source": [
    "### Distribution of values"
   ]
  },
  {
   "cell_type": "code",
   "execution_count": null,
   "metadata": {},
   "outputs": [],
   "source": [
    "value_counts = cleaned_df['column1'].value_counts().reset_index()\n",
    "value_counts.columns = ['column1', 'Count']\n",
    "\n",
    "# Display the distribution of values\n",
    "print(\"\\nDistribution of values:\") #-----> Change \"values\" for the variable name you want to analize\n",
    "print(city_counts.head(10))"
   ]
  },
  {
   "cell_type": "code",
   "execution_count": null,
   "metadata": {},
   "outputs": [],
   "source": []
  },
  {
   "cell_type": "code",
   "execution_count": null,
   "metadata": {},
   "outputs": [],
   "source": []
  },
  {
   "cell_type": "code",
   "execution_count": null,
   "metadata": {},
   "outputs": [],
   "source": []
  },
  {
   "cell_type": "code",
   "execution_count": null,
   "metadata": {},
   "outputs": [],
   "source": []
  },
  {
   "cell_type": "code",
   "execution_count": null,
   "metadata": {},
   "outputs": [],
   "source": []
  },
  {
   "cell_type": "code",
   "execution_count": null,
   "metadata": {},
   "outputs": [],
   "source": []
  },
  {
   "cell_type": "code",
   "execution_count": null,
   "metadata": {},
   "outputs": [],
   "source": []
  }
 ],
 "metadata": {
  "kernelspec": {
   "display_name": "base",
   "language": "python",
   "name": "python3"
  },
  "language_info": {
   "codemirror_mode": {
    "name": "ipython",
    "version": 3
   },
   "file_extension": ".py",
   "mimetype": "text/x-python",
   "name": "python",
   "nbconvert_exporter": "python",
   "pygments_lexer": "ipython3",
   "version": "3.9.7"
  },
  "orig_nbformat": 4
 },
 "nbformat": 4,
 "nbformat_minor": 2
}
